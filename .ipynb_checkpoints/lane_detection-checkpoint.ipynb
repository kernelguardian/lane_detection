{
 "cells": [
  {
   "cell_type": "code",
   "execution_count": 1,
   "metadata": {},
   "outputs": [],
   "source": [
    "import cv2\n",
    "import numpy as np\n",
    "import matplotlib.pyplot as plt"
   ]
  },
  {
   "cell_type": "code",
   "execution_count": 77,
   "metadata": {},
   "outputs": [],
   "source": [
    "rho=1\n",
    "theta=np.pi/180\n",
    "threshold=20\n",
    "min_line_len=20\n",
    "max_line_gap=250\n",
    "\n",
    "def isolate_color_mask(img, low_thresh, high_thresh):\n",
    "    assert(low_thresh.all() >=0  and low_thresh.all() <=255)\n",
    "    assert(high_thresh.all() >=0 and high_thresh.all() <=255)\n",
    "    return cv2.inRange(img, low_thresh, high_thresh)\n",
    "\n",
    "\n",
    "def draw_lines(img, roi, lines, color=[0, 255, 0], thickness=2):      \n",
    "    if lines is None:\n",
    "        return img\n",
    "    for line in lines:\n",
    "        for x1,y1,x2,y2 in line:\n",
    "            cv2.line(img, (x1+roi[0],y1+roi[1]),(x2+roi[0],y2+roi[1]), color, thickness)\n",
    "    return img\n",
    "\n",
    "def lanes(frame, roi):\n",
    "    gray = cv2.cvtColor(frame, cv2.COLOR_BGR2GRAY)\n",
    "    hls_image = cv2.cvtColor(frame, cv2.COLOR_BGR2HLS)\n",
    "    white_mask = isolate_color_mask(hls_image, np.array([0, 200, 0], dtype=np.uint8),\n",
    "                                    np.array([200, 255, 255], dtype=np.uint8))\n",
    "    yellow_mask = isolate_color_mask(hls_image, np.array([10, 0, 100], dtype=np.uint8),\n",
    "                                     np.array([40, 255, 255], dtype=np.uint8))\n",
    "    mask = cv2.bitwise_or(white_mask, yellow_mask)\n",
    "    colored_img = cv2.bitwise_and(gray, gray, mask=mask)\n",
    "    blurred_image = cv2.GaussianBlur(colored_img, (5,5), 1)\n",
    "    \n",
    "    canny_image = cv2.Canny(blurred_image, 70, 900)\n",
    "    \n",
    "    lines = cv2.HoughLinesP(canny_image[roi[1]:roi[1]+roi[3], roi[0]:roi[0]+roi[2]], rho, theta, threshold, np.array([]), \n",
    "                            minLineLength=min_line_len, maxLineGap=max_line_gap)\n",
    "    \n",
    "    lane_marked = draw_lines(frame, roi, lines)\n",
    "    return lane_marked\n",
    "\n",
    "# Driver\n",
    "cap = cv2.VideoCapture('data/road2.mp4')\n",
    "ret, frame = cap.read()\n",
    "roi = cv2.selectROI(frame, False)\n",
    "while(cap.isOpened()):\n",
    "    ret, frame = cap.read()\n",
    "    if ret == True:\n",
    "        cv2.imshow('Frame',lanes(frame, roi))\n",
    "    if cv2.waitKey(24) & 0xFF == ord('q'):\n",
    "        break\n",
    "        \n",
    "cap.release()\n",
    "cv2.destroyAllWindows()"
   ]
  }
 ],
 "metadata": {
  "kernelspec": {
   "display_name": "Python 3",
   "language": "python",
   "name": "python3"
  },
  "language_info": {
   "codemirror_mode": {
    "name": "ipython",
    "version": 3
   },
   "file_extension": ".py",
   "mimetype": "text/x-python",
   "name": "python",
   "nbconvert_exporter": "python",
   "pygments_lexer": "ipython3",
   "version": "3.8.4"
  }
 },
 "nbformat": 4,
 "nbformat_minor": 4
}
